{
 "cells": [
  {
   "cell_type": "markdown",
   "metadata": {},
   "source": [
    "# Record system's status as json"
   ]
  },
  {
   "cell_type": "markdown",
   "metadata": {},
   "source": [
    "you change just change these paras to record data in files, finally, this scripts will generate readme.txt and zipfile which filename is datentime and contains these json files"
   ]
  },
  {
   "cell_type": "code",
   "execution_count": 52,
   "metadata": {},
   "outputs": [],
   "source": [
    "import requests\n",
    "import pycurl\n",
    "import json\n",
    "import datetime,os\n",
    "import os\n",
    "import zipfile\n",
    "import sys\n",
    "\n",
    "conf = {\n",
    "    \"instance_str\" : \"140.110.141.135:9090\",\n",
    "    \"start_str\" : \"2018-11-13T09:14:00.781Z\",\n",
    "    \"end_str\"   : \"2018-11-13T09:16:00.781Z\",\n",
    "    \"step_str\"  : \"5s\",\n",
    "    \"node_ins_name\"  : \"tyan0.:18080\",\n",
    "    \"gpu_ins_name\"  : \"tyan0.:18081\",\n",
    "}\n"
   ]
  },
  {
   "cell_type": "markdown",
   "metadata": {},
   "source": [
    "This is utility function below, don't change if you don't know."
   ]
  },
  {
   "cell_type": "code",
   "execution_count": 53,
   "metadata": {},
   "outputs": [],
   "source": [
    "\n",
    "class PromeDBIns:\n",
    "\n",
    "    def __init__(self, conf):\n",
    "        self.total_url_query_list ={}\n",
    "        self.report_body = {}\n",
    "        self.instance_str = conf[\"instance_str\"] # \"140.110.141.135:9090\",\n",
    "        self.start_str = conf[\"start_str\"] #\"2018-10-29T20:10:51.781Z\"\n",
    "        self.end_str   = conf[\"end_str\"] # \"2018-10-29T20:12:51.781Z\", \n",
    "        self.step_str  = conf[\"step_str\"] # \"15s\"\n",
    "        now = datetime.datetime.now()\n",
    "        date_now = \"{}{:02}{:02}_{:02}{:02}\".format(now.year, now.month, now.day, now.hour, now.minute, now.second)\n",
    "        self.data_dirname = \"./\"+date_now\n",
    "#         total_url_query_list = {}\n",
    "#         report_body = {}\n",
    "        self.initReport(self.report_body)\n",
    "        if not os.path.exists(self.data_dirname):\n",
    "            os.makedirs(self.data_dirname)\n",
    "            \n",
    "    def initReport(self,report_body):\n",
    "        self.report_body[\"instance\"] =self.instance_str\n",
    "        self.report_body[\"starttime\"]=self.start_str\n",
    "        self.report_body[\"endtime\"]  =self.end_str\n",
    "        self.report_body[\"step\"]     =self.step_str\n",
    "        self.report_body[\"ok\"]       =self.total_url_query_list\n",
    "        self.report_body[\"error\"]    =[]        \n",
    "    \n",
    "    def storeAsJson(self, response,dst_file):\n",
    "        dst_file_path = os.path.join(self.data_dirname, dst_file)\n",
    " \n",
    "        if response.status_code == 200 : \n",
    "            with open(dst_file_path,\"w\",encoding='utf8') as f :\n",
    "                # new\n",
    "                data = json.loads(response.text)\n",
    "                json.dump(data,f )\n",
    "                # original\n",
    "#                 json.dump(response.text,f )\n",
    "            self.total_url_query_list[dst_file] = response.url\n",
    "            return True\n",
    "        else:\n",
    "            self.report_body[\"error\"].append(response.url)\n",
    "            return False\n",
    "\n",
    "    def zipdir(self, path, zipfl):\n",
    "        zipf = zipfile.ZipFile(zipfl, 'w', zipfile.ZIP_DEFLATED)\n",
    "        # ziph is zipfile handle\n",
    "        for root, dirs, files in os.walk(path):\n",
    "            for file in files:\n",
    "                zipf.write(os.path.join(root, file))\n",
    "        zipf.close()\n",
    "    def queryDB(self, query_str):\n",
    "\n",
    "        range_url = \"http://\"+self.instance_str+\"/api/v1/query_range\"\n",
    "        #query_str = 'irate(node_disk_written_bytes_total{instance=~\"tyan0.:18080\", device=~\".*nvme.*\"}[5m])'\n",
    "        range_full_url = \"{}?query={}&start={}&end={}&step={}\".format(\n",
    "            range_url,query_str , self.start_str , self.end_str , self.step_str )        \n",
    "        print(range_full_url)\n",
    "        \n",
    "        response = requests.get(range_full_url )\n",
    "\n",
    "        print(response.text[0:250])  \n",
    "        return response\n",
    "        \n",
    "        \n",
    "    def queryDBSave(self, query_str , filename):\n",
    "\n",
    "        \n",
    "        response = self.queryDB(query_str)\n",
    "        try:\n",
    "            dst_file = \"./\"+filename+\".json\"\n",
    "            #self.storeAsJson(range_full_url,dst_file)\n",
    "            self.storeAsJson(response,dst_file)\n",
    "            return response\n",
    "        except:\n",
    "            print(\"{} error:{}\".format( sys.exc_info()[0],sys.exc_info()[1]) )\n",
    "            return False"
   ]
  },
  {
   "cell_type": "code",
   "execution_count": 54,
   "metadata": {},
   "outputs": [],
   "source": [
    "pdbins = PromeDBIns(conf)"
   ]
  },
  {
   "cell_type": "markdown",
   "metadata": {},
   "source": [
    "# A.diskIO"
   ]
  },
  {
   "cell_type": "markdown",
   "metadata": {},
   "source": [
    "## a.1 write bytes/s : node_disk_written_bytes"
   ]
  },
  {
   "cell_type": "code",
   "execution_count": 55,
   "metadata": {
    "scrolled": false
   },
   "outputs": [
    {
     "name": "stdout",
     "output_type": "stream",
     "text": [
      "http://140.110.141.135:9090/api/v1/query_range?query=irate(node_disk_written_bytes_total{instance=~\"tyan0.:18080\", device=~\".*nvme.*\"}[5m])&start=2018-11-13T09:14:00.781Z&end=2018-11-13T09:16:00.781Z&step=5s\n",
      "{\"status\":\"success\",\"data\":{\"resultType\":\"matrix\",\"result\":[{\"metric\":{\"device\":\"nvme0n1\",\"instance\":\"tyan01:18080\",\"job\":\"node_exporter_tyan01\"},\"values\":[[1542100440.781,\"0\"],[1542100445.781,\"0\"],[1542100450.781,\"0\"],[1542100455.781,\"0\"],[154210046\n"
     ]
    }
   ],
   "source": [
    "#print(pdbins.queryDBSave( \"justTest\", \"testfile\"))\n",
    "\n",
    "#dst_file = \"./node_disk_written_bytes.json\"\n",
    "#range_url = \"http://\"+instance_str+\"/api/v1/query_range\"\n",
    "#query_str = 'irate(node_disk_written_bytes_total{instance=~\"tyan0.:18080\", device=~\".*nvme.*\"}[5m])'\n",
    "#range_full_url = \"{}?query={}&start={}&end={}&step={}\".format(\n",
    "#    range_url,query_str , start_str , end_str , step_str )\n",
    "#\n",
    "#storeAsJson(range_full_url,dst_file)\n",
    "\n",
    "rs_disk_written_bytes = pdbins.queryDBSave( \n",
    "    'irate(node_disk_written_bytes_total{instance=~\"'+conf[\"node_ins_name\"]+'\", device=~\".*nvme.*\"}[5m])',\n",
    "    \"node_disk_written_bytes\"\n",
    ")"
   ]
  },
  {
   "cell_type": "markdown",
   "metadata": {},
   "source": [
    "## a.2 read bytes/s : node_disk_read_bytes"
   ]
  },
  {
   "cell_type": "code",
   "execution_count": 56,
   "metadata": {},
   "outputs": [
    {
     "name": "stdout",
     "output_type": "stream",
     "text": [
      "http://140.110.141.135:9090/api/v1/query_range?query=irate(node_disk_read_bytes_total{instance=~\"tyan0.:18080\", device=~\".*nvme.*\"}[5m])&start=2018-11-13T09:14:00.781Z&end=2018-11-13T09:16:00.781Z&step=5s\n",
      "{\"status\":\"success\",\"data\":{\"resultType\":\"matrix\",\"result\":[{\"metric\":{\"device\":\"nvme0n1\",\"instance\":\"tyan01:18080\",\"job\":\"node_exporter_tyan01\"},\"values\":[[1542100440.781,\"0\"],[1542100445.781,\"0\"],[1542100450.781,\"0\"],[1542100455.781,\"0\"],[154210046\n"
     ]
    }
   ],
   "source": [
    "#dst_file = \"./node_disk_read_bytes.json\"\n",
    "#range_url = \"http://\"+instance_str+\"/api/v1/query_range\"\n",
    "#query_str = 'irate(node_disk_read_bytes_total{instance=~\"tyan0.:18080\", device=~\".*nvme.*\"}[5m])'\n",
    "#range_full_url = \"{}?query={}&start={}&end={}&step={}\".format(\n",
    "#    range_url,query_str , start_str , end_str , step_str )\n",
    "#storeAsJson(range_full_url,dst_file)\n",
    "\n",
    "\n",
    "rs_disk_read_bytes = pdbins.queryDBSave( \n",
    "    'irate(node_disk_read_bytes_total{instance=~\"'+conf[\"node_ins_name\"]+'\", device=~\".*nvme.*\"}[5m])',\n",
    "    \"node_disk_read_bytes\"\n",
    ")\n"
   ]
  },
  {
   "cell_type": "markdown",
   "metadata": {},
   "source": [
    "## a.3 disk usage : node_disk_io_time_seconds_total"
   ]
  },
  {
   "cell_type": "code",
   "execution_count": 57,
   "metadata": {},
   "outputs": [
    {
     "name": "stdout",
     "output_type": "stream",
     "text": [
      "http://140.110.141.135:9090/api/v1/query_range?query=irate(node_disk_io_time_seconds_total{instance=~\"tyan0.:18080\", device=~\".*nvme.*\"}[5m])&start=2018-11-13T09:14:00.781Z&end=2018-11-13T09:16:00.781Z&step=5s\n",
      "{\"status\":\"success\",\"data\":{\"resultType\":\"matrix\",\"result\":[{\"metric\":{\"device\":\"nvme0n1\",\"instance\":\"tyan01:18080\",\"job\":\"node_exporter_tyan01\"},\"values\":[[1542100440.781,\"0\"],[1542100445.781,\"0\"],[1542100450.781,\"0\"],[1542100455.781,\"0\"],[154210046\n"
     ]
    }
   ],
   "source": [
    "#dst_file = \"./node_disk_io_time.json\"\n",
    "#range_url = \"http://\"+instance_str+\"/api/v1/query_range\"\n",
    "#query_str = 'rate(node_disk_io_time_seconds_total{instance=~\"tyan0.:18080\", device!~\"md.*|dm.*\"}[5m])*100'\n",
    "#range_full_url = \"{}?query={}&start={}&end={}&step={}\".format(\n",
    "#    range_url,query_str , start_str , end_str , step_str )\n",
    "#storeAsJson(range_full_url,dst_file)\n",
    "\n",
    "rs_disk_io_time_seconds = pdbins.queryDBSave( \n",
    "    'irate(node_disk_io_time_seconds_total{instance=~\"'+conf[\"node_ins_name\"]+'\", device=~\".*nvme.*\"}[5m])',\n",
    "    \"node_disk_io_time_seconds\"\n",
    ")\n"
   ]
  },
  {
   "cell_type": "markdown",
   "metadata": {},
   "source": [
    "# B.system"
   ]
  },
  {
   "cell_type": "markdown",
   "metadata": {},
   "source": [
    "## b.1 cpu loading : node_load1"
   ]
  },
  {
   "cell_type": "code",
   "execution_count": 58,
   "metadata": {},
   "outputs": [
    {
     "name": "stdout",
     "output_type": "stream",
     "text": [
      "http://140.110.141.135:9090/api/v1/query_range?query=node_load1{instance=~\"tyan0.:18080\"}&start=2018-11-13T09:14:00.781Z&end=2018-11-13T09:16:00.781Z&step=5s\n",
      "{\"status\":\"success\",\"data\":{\"resultType\":\"matrix\",\"result\":[{\"metric\":{\"__name__\":\"node_load1\",\"instance\":\"tyan01:18080\",\"job\":\"node_exporter_tyan01\"},\"values\":[[1542100440.781,\"0.18\"],[1542100445.781,\"0.25\"],[1542100450.781,\"0.23\"],[1542100455.781,\"\n"
     ]
    }
   ],
   "source": [
    "#dst_file = \"./node_load1.json\"\n",
    "#query_str = 'node_load1{instance=~\"tyan0.:18080\"}'\n",
    "#range_url = \"http://\"+instance_str+\"/api/v1/query_range\"\n",
    "#range_full_url = \"{}?query={}&start={}&end={}&step={}\".format(\n",
    "#    range_url,query_str , start_str , end_str , step_str )\n",
    "#storeAsJson(range_full_url,dst_file)\n",
    "\n",
    "rs_node_load1 = pdbins.queryDBSave( \n",
    "    'node_load1{instance=~\"'+conf[\"node_ins_name\"]+'\"}',\n",
    "    \"node_load1\"\n",
    ")"
   ]
  },
  {
   "cell_type": "markdown",
   "metadata": {},
   "source": [
    "## b.2 temperature : node_hwmon_temp_celsius"
   ]
  },
  {
   "cell_type": "code",
   "execution_count": 59,
   "metadata": {
    "scrolled": true
   },
   "outputs": [
    {
     "name": "stdout",
     "output_type": "stream",
     "text": [
      "http://140.110.141.135:9090/api/v1/query_range?query=node_hwmon_temp_celsius{instance=~\"tyan0.:18080\"}&start=2018-11-13T09:14:00.781Z&end=2018-11-13T09:16:00.781Z&step=5s\n",
      "{\"status\":\"success\",\"data\":{\"resultType\":\"matrix\",\"result\":[{\"metric\":{\"__name__\":\"node_hwmon_temp_celsius\",\"chip\":\"platform_coretemp_0\",\"instance\":\"tyan01:18080\",\"job\":\"node_exporter_tyan01\",\"sensor\":\"temp1\"},\"values\":[[1542100440.781,\"64\"],[1542100\n"
     ]
    }
   ],
   "source": [
    "#dst_file = \"./node_hwmon_temp_celsius.json\"\n",
    "#query_str = 'node_hwmon_temp_celsius{instance=~\"tyan0.:18080\"}'\n",
    "#range_url = \"http://\"+instance_str+\"/api/v1/query_range\"\n",
    "#range_full_url = \"{}?query={}&start={}&end={}&step={}\".format(\n",
    "#    range_url,query_str , start_str , end_str , step_str )\n",
    "#storeAsJson(range_full_url,dst_file)\n",
    "\n",
    "rs_hwmon_temp_celsius = pdbins.queryDBSave( \n",
    "    'node_hwmon_temp_celsius{instance=~\"'+conf[\"node_ins_name\"]+'\"}',\n",
    "    \"node_hwmon_temp_celsius\"\n",
    ")"
   ]
  },
  {
   "cell_type": "markdown",
   "metadata": {},
   "source": [
    "## b.3 RAM free % : node_memory_MemFree_bytes"
   ]
  },
  {
   "cell_type": "code",
   "execution_count": 60,
   "metadata": {
    "scrolled": true
   },
   "outputs": [
    {
     "name": "stdout",
     "output_type": "stream",
     "text": [
      "http://140.110.141.135:9090/api/v1/query_range?query=node_memory_MemFree_bytes{instance=~\"tyan0.:18080\"}&start=2018-11-13T09:14:00.781Z&end=2018-11-13T09:16:00.781Z&step=5s\n",
      "{\"status\":\"success\",\"data\":{\"resultType\":\"matrix\",\"result\":[{\"metric\":{\"__name__\":\"node_memory_MemFree_bytes\",\"instance\":\"tyan01:18080\",\"job\":\"node_exporter_tyan01\"},\"values\":[[1542100440.781,\"39083044864\"],[1542100445.781,\"39082541056\"],[1542100450.\n",
      "http://140.110.141.135:9090/api/v1/query_range?query=node_memory_Buffers_bytes{instance=~\"tyan0.:18080\"}&start=2018-11-13T09:14:00.781Z&end=2018-11-13T09:16:00.781Z&step=5s\n",
      "{\"status\":\"success\",\"data\":{\"resultType\":\"matrix\",\"result\":[{\"metric\":{\"__name__\":\"node_memory_Buffers_bytes\",\"instance\":\"tyan01:18080\",\"job\":\"node_exporter_tyan01\"},\"values\":[[1542100440.781,\"6438912\"],[1542100445.781,\"6438912\"],[1542100450.781,\"643\n",
      "http://140.110.141.135:9090/api/v1/query_range?query=node_memory_Cached_bytes{instance=~\"tyan0.:18080\"}&start=2018-11-13T09:14:00.781Z&end=2018-11-13T09:16:00.781Z&step=5s\n",
      "{\"status\":\"success\",\"data\":{\"resultType\":\"matrix\",\"result\":[{\"metric\":{\"__name__\":\"node_memory_Cached_bytes\",\"instance\":\"tyan01:18080\",\"job\":\"node_exporter_tyan01\"},\"values\":[[1542100440.781,\"88603287552\"],[1542100445.781,\"88603295744\"],[1542100450.7\n"
     ]
    }
   ],
   "source": [
    "## not work \n",
    "# (1-(sum by (instance)(node_memory_MemFree_bytes{instance=~\"tyan0.:18080\"}+ \\n \n",
    "# node_memory_Buffers_bytes{instance=~\"tyan0.:18080\"}+node_memory_Cached_bytes{instance=~\"tyan0.:18080\"}))/ \\n\n",
    "# (sum by (instance) (node_memory_MemTotal_bytes{instance=~\"tyan0.:18080\"})))*100\n",
    "\n",
    "## so change\n",
    "#dst_file = \"./node_memory_MemFree_bytes.json\"\n",
    "#query_str = 'node_memory_MemFree_bytes{instance=~\"tyan0.:18080\"}'\n",
    "#range_url = \"http://\"+instance_str+\"/api/v1/query_range\"\n",
    "#range_full_url = \"{}?query={}&start={}&end={}&step={}\".format(\n",
    "#    range_url,query_str , start_str , end_str , step_str ) \n",
    "#storeAsJson(range_full_url,dst_file)\n",
    "\n",
    "\n",
    "rs_memory_MemFree_bytes = pdbins.queryDBSave( \n",
    "    'node_memory_MemFree_bytes{instance=~\"'+conf[\"node_ins_name\"]+'\"}',\n",
    "    \"node_memory_MemFree_bytes\"\n",
    ")\n",
    "\n",
    "\n",
    "\n",
    "\n",
    "#dst_file = \"./node_memory_Buffers_bytes.json\"\n",
    "#query_str = 'node_memory_Buffers_bytes{instance=~\"tyan0.:18080\"}'\n",
    "#range_url = \"http://\"+instance_str+\"/api/v1/query_range\"\n",
    "#range_full_url = \"{}?query={}&start={}&end={}&step={}\".format(\n",
    "#    range_url,query_str , start_str , end_str , step_str ) \n",
    "#storeAsJson(range_full_url,dst_file)\n",
    "\n",
    "rs_memory_Buffers_bytes = pdbins.queryDBSave( \n",
    "    'node_memory_Buffers_bytes{instance=~\"'+conf[\"node_ins_name\"]+'\"}',\n",
    "    \"node_memory_Buffers_bytes\"\n",
    ")\n",
    "\n",
    "\n",
    "\n",
    "#dst_file = \"./node_memory_Cached_bytes.json\"\n",
    "#query_str = 'node_memory_Cached_bytes{instance=~\"tyan0.:18080\"}'\n",
    "#range_url = \"http://\"+instance_str+\"/api/v1/query_range\"\n",
    "#range_full_url = \"{}?query={}&start={}&end={}&step={}\".format(\n",
    "#    range_url,query_str , start_str , end_str , step_str ) \n",
    "#storeAsJson(range_full_url,dst_file)\n",
    "\n",
    "rs_memory_Cached_bytes = pdbins.queryDBSave( \n",
    "    'node_memory_Cached_bytes{instance=~\"'+conf[\"node_ins_name\"]+'\"}',\n",
    "    \"node_memory_Cached_bytes\"\n",
    ")\n",
    "\n"
   ]
  },
  {
   "cell_type": "markdown",
   "metadata": {},
   "source": [
    "# C. network"
   ]
  },
  {
   "cell_type": "markdown",
   "metadata": {},
   "source": [
    "## c.1 node_network_transmit_bytes_total"
   ]
  },
  {
   "cell_type": "code",
   "execution_count": 61,
   "metadata": {},
   "outputs": [
    {
     "name": "stdout",
     "output_type": "stream",
     "text": [
      "http://140.110.141.135:9090/api/v1/query_range?query=irate(node_network_transmit_bytes_total{instance=~\"tyan0.:18080\", device=~\"enp.*\"}[5m])&start=2018-11-13T09:14:00.781Z&end=2018-11-13T09:16:00.781Z&step=5s\n",
      "{\"status\":\"success\",\"data\":{\"resultType\":\"matrix\",\"result\":[{\"metric\":{\"device\":\"enp103s0\",\"instance\":\"tyan01:18080\",\"job\":\"node_exporter_tyan01\"},\"values\":[[1542100440.781,\"0\"],[1542100445.781,\"0\"],[1542100450.781,\"0\"],[1542100455.781,\"0\"],[15421004\n"
     ]
    }
   ],
   "source": [
    "#dst_file = \"./node_network_transmit_bytes_total.json\"\n",
    "#query_str = 'irate(node_network_transmit_bytes_total{instance=~\"tyan0.:18080\", device=~\"enp.*\"}[5m])'\n",
    "#range_url = \"http://\"+instance_str+\"/api/v1/query_range\"\n",
    "#range_full_url = \"{}?query={}&start={}&end={}&step={}\".format(\n",
    "#    range_url,query_str , start_str , end_str , step_str ) \n",
    "#storeAsJson(range_full_url,dst_file)\n",
    "\n",
    "rs_network_transmit_bytes_total = pdbins.queryDBSave( \n",
    "    'irate(node_network_transmit_bytes_total{instance=~\"'+conf[\"node_ins_name\"]+'\", device=~\"enp.*\"}[5m])',\n",
    "    \"node_network_transmit_bytes_total\"\n",
    ")\n"
   ]
  },
  {
   "cell_type": "markdown",
   "metadata": {},
   "source": [
    "## c.2 node_network_receive_bytes_total"
   ]
  },
  {
   "cell_type": "code",
   "execution_count": 62,
   "metadata": {},
   "outputs": [
    {
     "name": "stdout",
     "output_type": "stream",
     "text": [
      "http://140.110.141.135:9090/api/v1/query_range?query=irate(node_network_receive_bytes_total{instance=~\"tyan0.:18080\", device=~\"enp.*\"}[5m])&start=2018-11-13T09:14:00.781Z&end=2018-11-13T09:16:00.781Z&step=5s\n",
      "{\"status\":\"success\",\"data\":{\"resultType\":\"matrix\",\"result\":[{\"metric\":{\"device\":\"enp103s0\",\"instance\":\"tyan01:18080\",\"job\":\"node_exporter_tyan01\"},\"values\":[[1542100440.781,\"0\"],[1542100445.781,\"0\"],[1542100450.781,\"0\"],[1542100455.781,\"0\"],[15421004\n"
     ]
    }
   ],
   "source": [
    "#dst_file = \"./node_network_receive_bytes_total.json\"\n",
    "#query_str = 'irate(node_network_receive_bytes_total{instance=~\"tyan0.:18080\", device=~\"enp.*\"}[5m])'\n",
    "#range_url = \"http://\"+instance_str+\"/api/v1/query_range\"\n",
    "#range_full_url = \"{}?query={}&start={}&end={}&step={}\".format(\n",
    "#    range_url,query_str , start_str , end_str , step_str ) \n",
    "#storeAsJson(range_full_url,dst_file)\n",
    "\n",
    "rs_network_receive_bytes_total = pdbins.queryDBSave( \n",
    "    'irate(node_network_receive_bytes_total{instance=~\"'+conf[\"node_ins_name\"]+'\", device=~\"enp.*\"}[5m])',\n",
    "    \"node_network_receive_bytes_total\"\n",
    ")"
   ]
  },
  {
   "cell_type": "markdown",
   "metadata": {},
   "source": [
    "## c.3 packet loss : node_netstat_Tcp_RetransSegs"
   ]
  },
  {
   "cell_type": "code",
   "execution_count": 63,
   "metadata": {},
   "outputs": [
    {
     "name": "stdout",
     "output_type": "stream",
     "text": [
      "http://140.110.141.135:9090/api/v1/query_range?query=irate(node_netstat_Tcp_RetransSegs{instance=~\"tyan0.:18080\"}[5m])&start=2018-11-13T09:14:00.781Z&end=2018-11-13T09:16:00.781Z&step=5s\n",
      "{\"status\":\"success\",\"data\":{\"resultType\":\"matrix\",\"result\":[{\"metric\":{\"instance\":\"tyan01:18080\",\"job\":\"node_exporter_tyan01\"},\"values\":[[1542100440.781,\"0\"],[1542100445.781,\"0\"],[1542100450.781,\"0\"],[1542100455.781,\"0\"],[1542100460.781,\"0\"],[1542100\n"
     ]
    }
   ],
   "source": [
    "#dst_file = \"./node_netstat_Tcp_RetransSegs.json\"\n",
    "#query_str = 'irate(node_netstat_Tcp_RetransSegs{instance=~\"tyan0.:18080\"}[5m])'\n",
    "#range_url = \"http://\"+instance_str+\"/api/v1/query_range\"\n",
    "#range_full_url = \"{}?query={}&start={}&end={}&step={}\".format(\n",
    "#    range_url,query_str , start_str , end_str , step_str ) \n",
    "#storeAsJson(range_full_url,dst_file)\n",
    "\n",
    "\n",
    "rs_netstat_Tcp_RetransSegs = pdbins.queryDBSave( \n",
    "    'irate(node_netstat_Tcp_RetransSegs{instance=~\"'+conf[\"node_ins_name\"]+'\"}[5m])',\n",
    "    \"node_netstat_Tcp_RetransSegs\"\n",
    ")\n"
   ]
  },
  {
   "cell_type": "markdown",
   "metadata": {},
   "source": [
    "# D. GPU"
   ]
  },
  {
   "cell_type": "markdown",
   "metadata": {},
   "source": [
    "## d.1 load"
   ]
  },
  {
   "cell_type": "code",
   "execution_count": 64,
   "metadata": {},
   "outputs": [
    {
     "name": "stdout",
     "output_type": "stream",
     "text": [
      "http://140.110.141.135:9090/api/v1/query_range?query=nvidia_gpu_duty_cycle{instance=~\"tyan0.:18081\"}&start=2018-11-13T09:14:00.781Z&end=2018-11-13T09:16:00.781Z&step=5s\n",
      "{\"status\":\"success\",\"data\":{\"resultType\":\"matrix\",\"result\":[{\"metric\":{\"__name__\":\"nvidia_gpu_duty_cycle\",\"instance\":\"tyan01:18081\",\"job\":\"nvidia_exporter_tyan01\",\"minor_number\":\"0\",\"name\":\"Tesla V100-PCIE-16GB\",\"uuid\":\"GPU-81fc6336-3dc2-5952-de3f-ab\n"
     ]
    }
   ],
   "source": [
    "#dst_file = \"./nvidia_gpu_duty_cycle.json\"\n",
    "#query_str = 'nvidia_gpu_duty_cycle{instance=~\"tyan0.:18081\"}'\n",
    "#range_url = \"http://\"+instance_str+\"/api/v1/query_range\"\n",
    "#range_full_url = \"{}?query={}&start={}&end={}&step={}\".format(\n",
    "#    range_url,query_str , start_str , end_str , step_str ) \n",
    "#storeAsJson(range_full_url,dst_file)\n",
    "\n",
    "rs_gpu_duty_cycle = pdbins.queryDBSave( \n",
    "    'nvidia_gpu_duty_cycle{instance=~\"'+conf[\"gpu_ins_name\"]+'\"}',\n",
    "    \"nvidia_gpu_duty_cycle\"\n",
    ")\n"
   ]
  },
  {
   "cell_type": "markdown",
   "metadata": {},
   "source": [
    "## d.2 temperature : nvidia_gpu_temperature_celsius"
   ]
  },
  {
   "cell_type": "code",
   "execution_count": 65,
   "metadata": {},
   "outputs": [
    {
     "name": "stdout",
     "output_type": "stream",
     "text": [
      "http://140.110.141.135:9090/api/v1/query_range?query=nvidia_gpu_temperature_celsius{instance=~\"tyan0.:18081\"}&start=2018-11-13T09:14:00.781Z&end=2018-11-13T09:16:00.781Z&step=5s\n",
      "{\"status\":\"success\",\"data\":{\"resultType\":\"matrix\",\"result\":[{\"metric\":{\"__name__\":\"nvidia_gpu_temperature_celsius\",\"instance\":\"tyan01:18081\",\"job\":\"nvidia_exporter_tyan01\",\"minor_number\":\"0\",\"name\":\"Tesla V100-PCIE-16GB\",\"uuid\":\"GPU-81fc6336-3dc2-595\n"
     ]
    }
   ],
   "source": [
    "#dst_file = \"./nvidia_gpu_temperature_celsius.json\"\n",
    "#query_str = 'nvidia_gpu_temperature_celsius{instance=~\"tyan0.:18081\"}'\n",
    "#range_url = \"http://\"+instance_str+\"/api/v1/query_range\"\n",
    "#range_full_url = \"{}?query={}&start={}&end={}&step={}\".format(\n",
    "#    range_url,query_str , start_str , end_str , step_str ) \n",
    "#storeAsJson(range_full_url,dst_file)\n",
    "\n",
    "rs_gpu_temperature_celsius = pdbins.queryDBSave( \n",
    "    'nvidia_gpu_temperature_celsius{instance=~\"'+conf[\"gpu_ins_name\"]+'\"}',\n",
    "    \"nvidia_gpu_temperature_celsius\"\n",
    ")"
   ]
  },
  {
   "cell_type": "markdown",
   "metadata": {},
   "source": [
    "## d.3 mem used"
   ]
  },
  {
   "cell_type": "code",
   "execution_count": 66,
   "metadata": {
    "scrolled": false
   },
   "outputs": [
    {
     "name": "stdout",
     "output_type": "stream",
     "text": [
      "http://140.110.141.135:9090/api/v1/query_range?query=nvidia_gpu_memory_used_bytes{instance=~\"tyan0.:18081\"}&start=2018-11-13T09:14:00.781Z&end=2018-11-13T09:16:00.781Z&step=5s\n",
      "{\"status\":\"success\",\"data\":{\"resultType\":\"matrix\",\"result\":[{\"metric\":{\"__name__\":\"nvidia_gpu_memory_used_bytes\",\"instance\":\"tyan01:18081\",\"job\":\"nvidia_exporter_tyan01\",\"minor_number\":\"0\",\"name\":\"Tesla V100-PCIE-16GB\",\"uuid\":\"GPU-81fc6336-3dc2-5952-\n"
     ]
    }
   ],
   "source": [
    "#dst_file = \"./node_netstat_Tcp_RetransSegs.json\"\n",
    "#query_str = 'nvidia_gpu_memory_used_bytes{instance=~\"tyan0.:18081\"}'\n",
    "#range_url = \"http://\"+instance_str+\"/api/v1/query_range\"\n",
    "#range_full_url = \"{}?query={}&start={}&end={}&step={}\".format(\n",
    "#    range_url,query_str , start_str , end_str , step_str ) \n",
    "#storeAsJson(range_full_url,dst_file)\n",
    "\n",
    "rs_gpu_memory_used_bytes = pdbins.queryDBSave( \n",
    "    'nvidia_gpu_memory_used_bytes{instance=~\"'+conf[\"gpu_ins_name\"]+'\"}',\n",
    "    \"nvidia_gpu_memory_used_bytes\"\n",
    ")"
   ]
  },
  {
   "cell_type": "markdown",
   "metadata": {},
   "source": [
    "# save report as readme.txt in json format"
   ]
  },
  {
   "cell_type": "code",
   "execution_count": 67,
   "metadata": {},
   "outputs": [
    {
     "name": "stdout",
     "output_type": "stream",
     "text": [
      "[ok]readme is ready: ./20181113_1752/readme.txt\n"
     ]
    }
   ],
   "source": [
    "readme_path = os.path.join(pdbins.data_dirname,\"readme.txt\")\n",
    "with open(readme_path, \"w\") as f:\n",
    "    ## simple file\n",
    "    #f.write(str(total_url_query_list))    \n",
    "    ## json format\n",
    "    json.dump(pdbins.report_body,f, sort_keys=True, indent=4)\n",
    "\n",
    "print(\"[ok]readme is ready: {}\".format(readme_path) )   \n",
    "\n",
    "## in json \n",
    "#json.dumps(report_body, sort_keys=True, indent=4)\n",
    "## simple format\n",
    "#for fkey, qvalue in total_url_query_list.items():\n",
    "#    print(\"{}=>{} \\n\".format(fkey,qvalue))"
   ]
  },
  {
   "cell_type": "markdown",
   "metadata": {},
   "source": [
    "#  zip these json file"
   ]
  },
  {
   "cell_type": "code",
   "execution_count": 68,
   "metadata": {
    "scrolled": true
   },
   "outputs": [
    {
     "name": "stdout",
     "output_type": "stream",
     "text": [
      "[ok]zip is ready: ./20181113_1752.zip\n"
     ]
    }
   ],
   "source": [
    "\n",
    "\n",
    "pdbins.zipdir(pdbins.data_dirname, pdbins.data_dirname+\".zip\")\n",
    "print(\"[ok]zip is ready: {}\".format(pdbins.data_dirname+\".zip\"))\n",
    "\n"
   ]
  },
  {
   "cell_type": "code",
   "execution_count": null,
   "metadata": {},
   "outputs": [],
   "source": []
  }
 ],
 "metadata": {
  "kernelspec": {
   "display_name": "Python 3",
   "language": "python",
   "name": "python3"
  },
  "language_info": {
   "codemirror_mode": {
    "name": "ipython",
    "version": 3
   },
   "file_extension": ".py",
   "mimetype": "text/x-python",
   "name": "python",
   "nbconvert_exporter": "python",
   "pygments_lexer": "ipython3",
   "version": "3.6.6"
  }
 },
 "nbformat": 4,
 "nbformat_minor": 2
}
