{
 "cells": [
  {
   "cell_type": "code",
   "execution_count": null,
   "metadata": {},
   "outputs": [],
   "source": [
    "#install cuda-docker -- necessary for many of the benchmarks\n",
    "%cd /home/chris\n",
    "!git clone https://github.com/mlperf/reference.git\n",
    "%cd /home/chris/reference\n",
    "!bash install_cuda_docker.sh"
   ]
  },
  {
   "cell_type": "code",
   "execution_count": null,
   "metadata": {},
   "outputs": [],
   "source": [
    "#translation\n",
    "%cd /home/chris/reference/translation\n",
    "!sudo -H -u chris sh download_data.sh\n",
    "#!DO WGET COMMANDS\n",
    "%cd tensorflow\n",
    "!IMAGE=`sudo docker build . | tail -n 1 | awk '{print $3}'`;SEED=1;NOW=`date \"+%F-%T\"`;sudo docker run -v $HOME/reference/translation/raw_data:/raw_data --runtime=nvidia -t -i $IMAGE \"./run_and_time.sh\" $SEED | tee benchmark-$NOW.log"
   ]
  },
  {
   "cell_type": "code",
   "execution_count": null,
   "metadata": {},
   "outputs": [],
   "source": [
    "#recommendation\n",
    "%cd /home/chris/reference/\n",
    "!sudo docker pull mlperf/recommendation:v0.5\n",
    "%cd /home/chris/reference/recommendation/pytorch\n",
    "#following line only needed if you previously ran the benchmark and want to run the benchmark again from scratch\n",
    "!rm ml-20m/*\n",
    "!bash ../download_dataset.sh\n",
    "!bash ../verify_dataset.sh\n",
    "!pip install numpy pandas scipy torch\n",
    "!pip3 install numpy pandas scipy torch\n",
    "#set seed to an integer between 1 and 5, default here is 1\n",
    "!docker build -t mlperf/recommendation:v0.5;nvidia-docker run -i -t --rm --ipc=host --mount \"type=bind,source=$(pwd),destination=/mlperf/experiment\" mlperf/recommendation:v0.5 1 "
   ]
  },
  {
   "cell_type": "code",
   "execution_count": null,
   "metadata": {},
   "outputs": [],
   "source": [
    "#sentiment analysis\n",
    "%cd /home/chris/reference/sentiment_analysis/paddle\n",
    "#pull the version of paddle that your system can use\n",
    "!docker pull paddlepaddle/paddle:latest-gpu-cuda9.0-cudnn7\n",
    "#change SEED to an integer 1-5\n",
    "!nvidia-docker run -it -v $PWD:/sentiment_analysis paddlepaddle/paddle:latest-gpu-cuda9.0-cudnn7 /bin/bash -c 'cd sentiment_analysis; sh run_and_time.sh 1'"
   ]
  },
  {
   "cell_type": "code",
   "execution_count": null,
   "metadata": {},
   "outputs": [],
   "source": [
    "#reinforcement\n",
    "%cd /home/chris/reference/reinforcement/tensorflow/\n",
    "!IMAGE=`docker build . | tail -n 1 | awk '{print $3}'`;SEED=1;NOW=`date \"+%F-%T\"`;docker run --runtime=nvidia -t -i $IMAGE \"./run_and_time.sh\" $SEED | tee benchmark-$NOW.log\n",
    "\n"
   ]
  },
  {
   "cell_type": "code",
   "execution_count": null,
   "metadata": {},
   "outputs": [],
   "source": [
    "#object detection -- not working\n",
    "%cd /home/chris\n",
    "!git clone https://github.com/pytorch/pytorch.git\n",
    "!cd pytorch; git submodule update --init --recursive\n",
    "!mv pytorch caffe2\n",
    "!rm -r reference/object_detection/caffe2/caffe2\n",
    "!mv caffe2 reference/object_detection/caffe2/\n",
    "%cd /home/chris/reference/object_detection/caffe2\n",
    "!git submodule update --init --recursive\n",
    "!bash ../download_dataset.sh\n",
    "!bash ../download_weights.sh\n",
    "!bash extract_dataset.sh\n",
    "!docker build -t detectron .;nvidia-docker run -v /home/chris/reference/object_detection/caffe2/detectron/lib/datasets/disks/data/coco/:/packages/detectron/lib/datasets/data/coco -it detectron /bin/bash;time stdbuf -o 0 python tools/train_net.py --cfg configs/12_2017_baselines/e2e_mask_rcnn_R-50-FPN_1x.yaml --box_min_ap 0.377 --mask_min_ap 0.339 --seed 3 | tee run.log"
   ]
  }
 ],
 "metadata": {
  "kernelspec": {
   "display_name": "Python 2",
   "language": "python",
   "name": "python2"
  },
  "language_info": {
   "codemirror_mode": {
    "name": "ipython",
    "version": 2
   },
   "file_extension": ".py",
   "mimetype": "text/x-python",
   "name": "python",
   "nbconvert_exporter": "python",
   "pygments_lexer": "ipython2",
   "version": "2.7.12"
  }
 },
 "nbformat": 4,
 "nbformat_minor": 2
}
